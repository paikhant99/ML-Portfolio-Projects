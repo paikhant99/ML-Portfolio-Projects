{
 "cells": [
  {
   "cell_type": "code",
   "execution_count": 1,
   "id": "6219180a",
   "metadata": {
    "execution": {
     "iopub.execute_input": "2023-05-31T10:21:55.107025Z",
     "iopub.status.busy": "2023-05-31T10:21:55.106595Z",
     "iopub.status.idle": "2023-05-31T10:21:56.726507Z",
     "shell.execute_reply": "2023-05-31T10:21:56.725241Z"
    },
    "papermill": {
     "duration": 1.634472,
     "end_time": "2023-05-31T10:21:56.729466",
     "exception": false,
     "start_time": "2023-05-31T10:21:55.094994",
     "status": "completed"
    },
    "tags": []
   },
   "outputs": [],
   "source": [
    "import pandas as pd\n",
    "from sklearn.preprocessing import OneHotEncoder\n",
    "\n",
    "from sklearn.model_selection import train_test_split\n",
    "from sklearn.linear_model import LogisticRegression\n",
    "from sklearn.metrics import accuracy_score"
   ]
  },
  {
   "cell_type": "markdown",
   "id": "ad7dc86d",
   "metadata": {
    "papermill": {
     "duration": 0.008055,
     "end_time": "2023-05-31T10:21:56.746332",
     "exception": false,
     "start_time": "2023-05-31T10:21:56.738277",
     "status": "completed"
    },
    "tags": []
   },
   "source": [
    "## 1. Data Collection"
   ]
  },
  {
   "cell_type": "code",
   "execution_count": 2,
   "id": "91c9deae",
   "metadata": {
    "execution": {
     "iopub.execute_input": "2023-05-31T10:21:56.766017Z",
     "iopub.status.busy": "2023-05-31T10:21:56.765045Z",
     "iopub.status.idle": "2023-05-31T10:21:56.832998Z",
     "shell.execute_reply": "2023-05-31T10:21:56.831664Z"
    },
    "papermill": {
     "duration": 0.080882,
     "end_time": "2023-05-31T10:21:56.835995",
     "exception": false,
     "start_time": "2023-05-31T10:21:56.755113",
     "status": "completed"
    },
    "tags": []
   },
   "outputs": [
    {
     "data": {
      "text/html": [
       "<div>\n",
       "<style scoped>\n",
       "    .dataframe tbody tr th:only-of-type {\n",
       "        vertical-align: middle;\n",
       "    }\n",
       "\n",
       "    .dataframe tbody tr th {\n",
       "        vertical-align: top;\n",
       "    }\n",
       "\n",
       "    .dataframe thead th {\n",
       "        text-align: right;\n",
       "    }\n",
       "</style>\n",
       "<table border=\"1\" class=\"dataframe\">\n",
       "  <thead>\n",
       "    <tr style=\"text-align: right;\">\n",
       "      <th></th>\n",
       "      <th>PassengerId</th>\n",
       "      <th>Survived</th>\n",
       "      <th>Pclass</th>\n",
       "      <th>Name</th>\n",
       "      <th>Sex</th>\n",
       "      <th>Age</th>\n",
       "      <th>SibSp</th>\n",
       "      <th>Parch</th>\n",
       "      <th>Ticket</th>\n",
       "      <th>Fare</th>\n",
       "      <th>Cabin</th>\n",
       "      <th>Embarked</th>\n",
       "    </tr>\n",
       "  </thead>\n",
       "  <tbody>\n",
       "    <tr>\n",
       "      <th>483</th>\n",
       "      <td>484</td>\n",
       "      <td>1</td>\n",
       "      <td>3</td>\n",
       "      <td>Turkula, Mrs. (Hedwig)</td>\n",
       "      <td>female</td>\n",
       "      <td>63.0</td>\n",
       "      <td>0</td>\n",
       "      <td>0</td>\n",
       "      <td>4134</td>\n",
       "      <td>9.5875</td>\n",
       "      <td>NaN</td>\n",
       "      <td>S</td>\n",
       "    </tr>\n",
       "    <tr>\n",
       "      <th>179</th>\n",
       "      <td>180</td>\n",
       "      <td>0</td>\n",
       "      <td>3</td>\n",
       "      <td>Leonard, Mr. Lionel</td>\n",
       "      <td>male</td>\n",
       "      <td>36.0</td>\n",
       "      <td>0</td>\n",
       "      <td>0</td>\n",
       "      <td>LINE</td>\n",
       "      <td>0.0000</td>\n",
       "      <td>NaN</td>\n",
       "      <td>S</td>\n",
       "    </tr>\n",
       "    <tr>\n",
       "      <th>19</th>\n",
       "      <td>20</td>\n",
       "      <td>1</td>\n",
       "      <td>3</td>\n",
       "      <td>Masselmani, Mrs. Fatima</td>\n",
       "      <td>female</td>\n",
       "      <td>NaN</td>\n",
       "      <td>0</td>\n",
       "      <td>0</td>\n",
       "      <td>2649</td>\n",
       "      <td>7.2250</td>\n",
       "      <td>NaN</td>\n",
       "      <td>C</td>\n",
       "    </tr>\n",
       "    <tr>\n",
       "      <th>757</th>\n",
       "      <td>758</td>\n",
       "      <td>0</td>\n",
       "      <td>2</td>\n",
       "      <td>Bailey, Mr. Percy Andrew</td>\n",
       "      <td>male</td>\n",
       "      <td>18.0</td>\n",
       "      <td>0</td>\n",
       "      <td>0</td>\n",
       "      <td>29108</td>\n",
       "      <td>11.5000</td>\n",
       "      <td>NaN</td>\n",
       "      <td>S</td>\n",
       "    </tr>\n",
       "    <tr>\n",
       "      <th>556</th>\n",
       "      <td>557</td>\n",
       "      <td>1</td>\n",
       "      <td>1</td>\n",
       "      <td>Duff Gordon, Lady. (Lucille Christiana Sutherl...</td>\n",
       "      <td>female</td>\n",
       "      <td>48.0</td>\n",
       "      <td>1</td>\n",
       "      <td>0</td>\n",
       "      <td>11755</td>\n",
       "      <td>39.6000</td>\n",
       "      <td>A16</td>\n",
       "      <td>C</td>\n",
       "    </tr>\n",
       "  </tbody>\n",
       "</table>\n",
       "</div>"
      ],
      "text/plain": [
       "     PassengerId  Survived  Pclass  \\\n",
       "483          484         1       3   \n",
       "179          180         0       3   \n",
       "19            20         1       3   \n",
       "757          758         0       2   \n",
       "556          557         1       1   \n",
       "\n",
       "                                                  Name     Sex   Age  SibSp  \\\n",
       "483                             Turkula, Mrs. (Hedwig)  female  63.0      0   \n",
       "179                                Leonard, Mr. Lionel    male  36.0      0   \n",
       "19                             Masselmani, Mrs. Fatima  female   NaN      0   \n",
       "757                           Bailey, Mr. Percy Andrew    male  18.0      0   \n",
       "556  Duff Gordon, Lady. (Lucille Christiana Sutherl...  female  48.0      1   \n",
       "\n",
       "     Parch Ticket     Fare Cabin Embarked  \n",
       "483      0   4134   9.5875   NaN        S  \n",
       "179      0   LINE   0.0000   NaN        S  \n",
       "19       0   2649   7.2250   NaN        C  \n",
       "757      0  29108  11.5000   NaN        S  \n",
       "556      0  11755  39.6000   A16        C  "
      ]
     },
     "execution_count": 2,
     "metadata": {},
     "output_type": "execute_result"
    }
   ],
   "source": [
    "train_dir = '../input/titanic/train.csv'\n",
    "train_data = pd.read_csv(train_dir)\n",
    "train_data.sample(5)"
   ]
  },
  {
   "cell_type": "markdown",
   "id": "a041dff1",
   "metadata": {
    "papermill": {
     "duration": 0.010168,
     "end_time": "2023-05-31T10:21:56.854944",
     "exception": false,
     "start_time": "2023-05-31T10:21:56.844776",
     "status": "completed"
    },
    "tags": []
   },
   "source": [
    "### 1 - a) Acquiring Relevant Data"
   ]
  },
  {
   "cell_type": "markdown",
   "id": "26eb8da2",
   "metadata": {
    "papermill": {
     "duration": 0.00857,
     "end_time": "2023-05-31T10:21:56.872866",
     "exception": false,
     "start_time": "2023-05-31T10:21:56.864296",
     "status": "completed"
    },
    "tags": []
   },
   "source": [
    "Passenger Id, Name, Ticket and Cabin Attributes were irrelevant so I dropped these."
   ]
  },
  {
   "cell_type": "code",
   "execution_count": 3,
   "id": "4fd54b77",
   "metadata": {
    "execution": {
     "iopub.execute_input": "2023-05-31T10:21:56.893712Z",
     "iopub.status.busy": "2023-05-31T10:21:56.893296Z",
     "iopub.status.idle": "2023-05-31T10:21:56.902033Z",
     "shell.execute_reply": "2023-05-31T10:21:56.900704Z"
    },
    "papermill": {
     "duration": 0.022104,
     "end_time": "2023-05-31T10:21:56.904627",
     "exception": false,
     "start_time": "2023-05-31T10:21:56.882523",
     "status": "completed"
    },
    "tags": []
   },
   "outputs": [],
   "source": [
    "train_data.drop(columns = ['PassengerId', 'Name', 'Cabin', 'Ticket'], inplace = True)"
   ]
  },
  {
   "cell_type": "markdown",
   "id": "b1d01aa6",
   "metadata": {
    "papermill": {
     "duration": 0.008527,
     "end_time": "2023-05-31T10:21:56.922652",
     "exception": false,
     "start_time": "2023-05-31T10:21:56.914125",
     "status": "completed"
    },
    "tags": []
   },
   "source": [
    "## 2. Data Cleaning & Preprocessing"
   ]
  },
  {
   "cell_type": "markdown",
   "id": "c467d5a4",
   "metadata": {
    "papermill": {
     "duration": 0.008289,
     "end_time": "2023-05-31T10:21:56.939758",
     "exception": false,
     "start_time": "2023-05-31T10:21:56.931469",
     "status": "completed"
    },
    "tags": []
   },
   "source": [
    "### 2 - a) Handling missing values"
   ]
  },
  {
   "cell_type": "code",
   "execution_count": 4,
   "id": "6c341dca",
   "metadata": {
    "execution": {
     "iopub.execute_input": "2023-05-31T10:21:56.959335Z",
     "iopub.status.busy": "2023-05-31T10:21:56.958533Z",
     "iopub.status.idle": "2023-05-31T10:21:56.982057Z",
     "shell.execute_reply": "2023-05-31T10:21:56.980871Z"
    },
    "papermill": {
     "duration": 0.036158,
     "end_time": "2023-05-31T10:21:56.984689",
     "exception": false,
     "start_time": "2023-05-31T10:21:56.948531",
     "status": "completed"
    },
    "tags": []
   },
   "outputs": [
    {
     "name": "stdout",
     "output_type": "stream",
     "text": [
      "<class 'pandas.core.frame.DataFrame'>\n",
      "RangeIndex: 891 entries, 0 to 890\n",
      "Data columns (total 8 columns):\n",
      " #   Column    Non-Null Count  Dtype  \n",
      "---  ------    --------------  -----  \n",
      " 0   Survived  891 non-null    int64  \n",
      " 1   Pclass    891 non-null    int64  \n",
      " 2   Sex       891 non-null    object \n",
      " 3   Age       714 non-null    float64\n",
      " 4   SibSp     891 non-null    int64  \n",
      " 5   Parch     891 non-null    int64  \n",
      " 6   Fare      891 non-null    float64\n",
      " 7   Embarked  889 non-null    object \n",
      "dtypes: float64(2), int64(4), object(2)\n",
      "memory usage: 55.8+ KB\n"
     ]
    }
   ],
   "source": [
    "train_data.info()"
   ]
  },
  {
   "cell_type": "code",
   "execution_count": 5,
   "id": "f7d65943",
   "metadata": {
    "execution": {
     "iopub.execute_input": "2023-05-31T10:21:57.004889Z",
     "iopub.status.busy": "2023-05-31T10:21:57.004149Z",
     "iopub.status.idle": "2023-05-31T10:21:57.013182Z",
     "shell.execute_reply": "2023-05-31T10:21:57.012302Z"
    },
    "papermill": {
     "duration": 0.0225,
     "end_time": "2023-05-31T10:21:57.016150",
     "exception": false,
     "start_time": "2023-05-31T10:21:56.993650",
     "status": "completed"
    },
    "tags": []
   },
   "outputs": [
    {
     "data": {
      "text/plain": [
       "Survived      0\n",
       "Pclass        0\n",
       "Sex           0\n",
       "Age         177\n",
       "SibSp         0\n",
       "Parch         0\n",
       "Fare          0\n",
       "Embarked      2\n",
       "dtype: int64"
      ]
     },
     "execution_count": 5,
     "metadata": {},
     "output_type": "execute_result"
    }
   ],
   "source": [
    "train_data.isnull().sum()"
   ]
  },
  {
   "cell_type": "markdown",
   "id": "b8e1853e",
   "metadata": {
    "papermill": {
     "duration": 0.009397,
     "end_time": "2023-05-31T10:21:57.034534",
     "exception": false,
     "start_time": "2023-05-31T10:21:57.025137",
     "status": "completed"
    },
    "tags": []
   },
   "source": [
    "The Dataset has got null values so we will impute them with mode because they are categorical"
   ]
  },
  {
   "cell_type": "code",
   "execution_count": 6,
   "id": "6cdc8e1e",
   "metadata": {
    "execution": {
     "iopub.execute_input": "2023-05-31T10:21:57.055083Z",
     "iopub.status.busy": "2023-05-31T10:21:57.054383Z",
     "iopub.status.idle": "2023-05-31T10:21:57.071420Z",
     "shell.execute_reply": "2023-05-31T10:21:57.070249Z"
    },
    "papermill": {
     "duration": 0.030475,
     "end_time": "2023-05-31T10:21:57.074074",
     "exception": false,
     "start_time": "2023-05-31T10:21:57.043599",
     "status": "completed"
    },
    "tags": []
   },
   "outputs": [
    {
     "data": {
      "text/plain": [
       "Survived    0\n",
       "Pclass      0\n",
       "Sex         0\n",
       "Age         0\n",
       "SibSp       0\n",
       "Parch       0\n",
       "Fare        0\n",
       "Embarked    0\n",
       "dtype: int64"
      ]
     },
     "execution_count": 6,
     "metadata": {},
     "output_type": "execute_result"
    }
   ],
   "source": [
    "null_indices = train_data[train_data.isnull().any(axis = 1)].index\n",
    "\n",
    "train_data['Age'].fillna(train_data['Age'].mode()[0], inplace = True)\n",
    "train_data['Embarked'].fillna(train_data['Embarked'].mode()[0], inplace = True)\n",
    "\n",
    "train_data.isnull().sum()"
   ]
  },
  {
   "cell_type": "code",
   "execution_count": 7,
   "id": "2528e76c",
   "metadata": {
    "execution": {
     "iopub.execute_input": "2023-05-31T10:21:57.094397Z",
     "iopub.status.busy": "2023-05-31T10:21:57.093940Z",
     "iopub.status.idle": "2023-05-31T10:21:57.128948Z",
     "shell.execute_reply": "2023-05-31T10:21:57.127799Z"
    },
    "papermill": {
     "duration": 0.04834,
     "end_time": "2023-05-31T10:21:57.131622",
     "exception": false,
     "start_time": "2023-05-31T10:21:57.083282",
     "status": "completed"
    },
    "tags": []
   },
   "outputs": [
    {
     "data": {
      "text/html": [
       "<div>\n",
       "<style scoped>\n",
       "    .dataframe tbody tr th:only-of-type {\n",
       "        vertical-align: middle;\n",
       "    }\n",
       "\n",
       "    .dataframe tbody tr th {\n",
       "        vertical-align: top;\n",
       "    }\n",
       "\n",
       "    .dataframe thead th {\n",
       "        text-align: right;\n",
       "    }\n",
       "</style>\n",
       "<table border=\"1\" class=\"dataframe\">\n",
       "  <thead>\n",
       "    <tr style=\"text-align: right;\">\n",
       "      <th></th>\n",
       "      <th>Survived</th>\n",
       "      <th>Pclass</th>\n",
       "      <th>Age</th>\n",
       "      <th>SibSp</th>\n",
       "      <th>Parch</th>\n",
       "      <th>Fare</th>\n",
       "    </tr>\n",
       "  </thead>\n",
       "  <tbody>\n",
       "    <tr>\n",
       "      <th>count</th>\n",
       "      <td>891.000000</td>\n",
       "      <td>891.000000</td>\n",
       "      <td>891.000000</td>\n",
       "      <td>891.000000</td>\n",
       "      <td>891.000000</td>\n",
       "      <td>891.000000</td>\n",
       "    </tr>\n",
       "    <tr>\n",
       "      <th>mean</th>\n",
       "      <td>0.383838</td>\n",
       "      <td>2.308642</td>\n",
       "      <td>28.566970</td>\n",
       "      <td>0.523008</td>\n",
       "      <td>0.381594</td>\n",
       "      <td>32.204208</td>\n",
       "    </tr>\n",
       "    <tr>\n",
       "      <th>std</th>\n",
       "      <td>0.486592</td>\n",
       "      <td>0.836071</td>\n",
       "      <td>13.199572</td>\n",
       "      <td>1.102743</td>\n",
       "      <td>0.806057</td>\n",
       "      <td>49.693429</td>\n",
       "    </tr>\n",
       "    <tr>\n",
       "      <th>min</th>\n",
       "      <td>0.000000</td>\n",
       "      <td>1.000000</td>\n",
       "      <td>0.420000</td>\n",
       "      <td>0.000000</td>\n",
       "      <td>0.000000</td>\n",
       "      <td>0.000000</td>\n",
       "    </tr>\n",
       "    <tr>\n",
       "      <th>25%</th>\n",
       "      <td>0.000000</td>\n",
       "      <td>2.000000</td>\n",
       "      <td>22.000000</td>\n",
       "      <td>0.000000</td>\n",
       "      <td>0.000000</td>\n",
       "      <td>7.910400</td>\n",
       "    </tr>\n",
       "    <tr>\n",
       "      <th>50%</th>\n",
       "      <td>0.000000</td>\n",
       "      <td>3.000000</td>\n",
       "      <td>24.000000</td>\n",
       "      <td>0.000000</td>\n",
       "      <td>0.000000</td>\n",
       "      <td>14.454200</td>\n",
       "    </tr>\n",
       "    <tr>\n",
       "      <th>75%</th>\n",
       "      <td>1.000000</td>\n",
       "      <td>3.000000</td>\n",
       "      <td>35.000000</td>\n",
       "      <td>1.000000</td>\n",
       "      <td>0.000000</td>\n",
       "      <td>31.000000</td>\n",
       "    </tr>\n",
       "    <tr>\n",
       "      <th>max</th>\n",
       "      <td>1.000000</td>\n",
       "      <td>3.000000</td>\n",
       "      <td>80.000000</td>\n",
       "      <td>8.000000</td>\n",
       "      <td>6.000000</td>\n",
       "      <td>512.329200</td>\n",
       "    </tr>\n",
       "  </tbody>\n",
       "</table>\n",
       "</div>"
      ],
      "text/plain": [
       "         Survived      Pclass         Age       SibSp       Parch        Fare\n",
       "count  891.000000  891.000000  891.000000  891.000000  891.000000  891.000000\n",
       "mean     0.383838    2.308642   28.566970    0.523008    0.381594   32.204208\n",
       "std      0.486592    0.836071   13.199572    1.102743    0.806057   49.693429\n",
       "min      0.000000    1.000000    0.420000    0.000000    0.000000    0.000000\n",
       "25%      0.000000    2.000000   22.000000    0.000000    0.000000    7.910400\n",
       "50%      0.000000    3.000000   24.000000    0.000000    0.000000   14.454200\n",
       "75%      1.000000    3.000000   35.000000    1.000000    0.000000   31.000000\n",
       "max      1.000000    3.000000   80.000000    8.000000    6.000000  512.329200"
      ]
     },
     "execution_count": 7,
     "metadata": {},
     "output_type": "execute_result"
    }
   ],
   "source": [
    "train_data.describe()"
   ]
  },
  {
   "cell_type": "markdown",
   "id": "a4a0e70e",
   "metadata": {
    "papermill": {
     "duration": 0.009259,
     "end_time": "2023-05-31T10:21:57.150438",
     "exception": false,
     "start_time": "2023-05-31T10:21:57.141179",
     "status": "completed"
    },
    "tags": []
   },
   "source": [
    "Next, we will discover noises in data."
   ]
  },
  {
   "cell_type": "code",
   "execution_count": 8,
   "id": "ecca1b7d",
   "metadata": {
    "execution": {
     "iopub.execute_input": "2023-05-31T10:21:57.171669Z",
     "iopub.status.busy": "2023-05-31T10:21:57.171273Z",
     "iopub.status.idle": "2023-05-31T10:21:57.589048Z",
     "shell.execute_reply": "2023-05-31T10:21:57.588137Z"
    },
    "papermill": {
     "duration": 0.431138,
     "end_time": "2023-05-31T10:21:57.591400",
     "exception": false,
     "start_time": "2023-05-31T10:21:57.160262",
     "status": "completed"
    },
    "tags": []
   },
   "outputs": [
    {
     "data": {
      "text/plain": [
       "<Axes: >"
      ]
     },
     "execution_count": 8,
     "metadata": {},
     "output_type": "execute_result"
    },
    {
     "data": {
      "image/png": "[encoded data removed]",
      "text/plain": [
       "<Figure size 640x480 with 1 Axes>"
      ]
     },
     "metadata": {},
     "output_type": "display_data"
    }
   ],
   "source": [
    "train_data.boxplot()"
   ]
  },
  {
   "cell_type": "code",
   "execution_count": 9,
   "id": "1c0a3750",
   "metadata": {
    "execution": {
     "iopub.execute_input": "2023-05-31T10:21:57.614171Z",
     "iopub.status.busy": "2023-05-31T10:21:57.613699Z",
     "iopub.status.idle": "2023-05-31T10:21:57.634524Z",
     "shell.execute_reply": "2023-05-31T10:21:57.633617Z"
    },
    "papermill": {
     "duration": 0.034698,
     "end_time": "2023-05-31T10:21:57.636834",
     "exception": false,
     "start_time": "2023-05-31T10:21:57.602136",
     "status": "completed"
    },
    "tags": []
   },
   "outputs": [
    {
     "data": {
      "text/html": [
       "<div>\n",
       "<style scoped>\n",
       "    .dataframe tbody tr th:only-of-type {\n",
       "        vertical-align: middle;\n",
       "    }\n",
       "\n",
       "    .dataframe tbody tr th {\n",
       "        vertical-align: top;\n",
       "    }\n",
       "\n",
       "    .dataframe thead th {\n",
       "        text-align: right;\n",
       "    }\n",
       "</style>\n",
       "<table border=\"1\" class=\"dataframe\">\n",
       "  <thead>\n",
       "    <tr style=\"text-align: right;\">\n",
       "      <th></th>\n",
       "      <th>Survived</th>\n",
       "      <th>Pclass</th>\n",
       "      <th>Sex</th>\n",
       "      <th>Age</th>\n",
       "      <th>SibSp</th>\n",
       "      <th>Parch</th>\n",
       "      <th>Fare</th>\n",
       "      <th>Embarked</th>\n",
       "    </tr>\n",
       "  </thead>\n",
       "  <tbody>\n",
       "    <tr>\n",
       "      <th>258</th>\n",
       "      <td>1</td>\n",
       "      <td>1</td>\n",
       "      <td>female</td>\n",
       "      <td>35.0</td>\n",
       "      <td>0</td>\n",
       "      <td>0</td>\n",
       "      <td>512.3292</td>\n",
       "      <td>C</td>\n",
       "    </tr>\n",
       "    <tr>\n",
       "      <th>679</th>\n",
       "      <td>1</td>\n",
       "      <td>1</td>\n",
       "      <td>male</td>\n",
       "      <td>36.0</td>\n",
       "      <td>0</td>\n",
       "      <td>1</td>\n",
       "      <td>512.3292</td>\n",
       "      <td>C</td>\n",
       "    </tr>\n",
       "    <tr>\n",
       "      <th>737</th>\n",
       "      <td>1</td>\n",
       "      <td>1</td>\n",
       "      <td>male</td>\n",
       "      <td>35.0</td>\n",
       "      <td>0</td>\n",
       "      <td>0</td>\n",
       "      <td>512.3292</td>\n",
       "      <td>C</td>\n",
       "    </tr>\n",
       "  </tbody>\n",
       "</table>\n",
       "</div>"
      ],
      "text/plain": [
       "     Survived  Pclass     Sex   Age  SibSp  Parch      Fare Embarked\n",
       "258         1       1  female  35.0      0      0  512.3292        C\n",
       "679         1       1    male  36.0      0      1  512.3292        C\n",
       "737         1       1    male  35.0      0      0  512.3292        C"
      ]
     },
     "execution_count": 9,
     "metadata": {},
     "output_type": "execute_result"
    }
   ],
   "source": [
    "train_data[train_data.where(train_data['Fare'] > 500).notnull().any(axis = 1)]"
   ]
  },
  {
   "cell_type": "markdown",
   "id": "706a4fd5",
   "metadata": {
    "papermill": {
     "duration": 0.010132,
     "end_time": "2023-05-31T10:21:57.657266",
     "exception": false,
     "start_time": "2023-05-31T10:21:57.647134",
     "status": "completed"
    },
    "tags": []
   },
   "source": [
    "Over 500 in Fare may not be noises in data in spite of 1st class."
   ]
  },
  {
   "cell_type": "markdown",
   "id": "15936244",
   "metadata": {
    "papermill": {
     "duration": 0.010679,
     "end_time": "2023-05-31T10:21:57.678107",
     "exception": false,
     "start_time": "2023-05-31T10:21:57.667428",
     "status": "completed"
    },
    "tags": []
   },
   "source": [
    "However, we will intentionally left the step of handling noises to see bad performance of models"
   ]
  },
  {
   "cell_type": "markdown",
   "id": "15aa484b",
   "metadata": {
    "papermill": {
     "duration": 0.010503,
     "end_time": "2023-05-31T10:21:57.699057",
     "exception": false,
     "start_time": "2023-05-31T10:21:57.688554",
     "status": "completed"
    },
    "tags": []
   },
   "source": [
    "## 4. Feature Engineering"
   ]
  },
  {
   "cell_type": "markdown",
   "id": "b1f3c7b1",
   "metadata": {
    "papermill": {
     "duration": 0.009882,
     "end_time": "2023-05-31T10:21:57.719150",
     "exception": false,
     "start_time": "2023-05-31T10:21:57.709268",
     "status": "completed"
    },
    "tags": []
   },
   "source": [
    "We will intentionally left the step of normalization & scaling to see bad performance of models"
   ]
  },
  {
   "cell_type": "markdown",
   "id": "5169ed52",
   "metadata": {
    "papermill": {
     "duration": 0.009872,
     "end_time": "2023-05-31T10:21:57.739335",
     "exception": false,
     "start_time": "2023-05-31T10:21:57.729463",
     "status": "completed"
    },
    "tags": []
   },
   "source": [
    "### 4 - b) Transformations"
   ]
  },
  {
   "cell_type": "code",
   "execution_count": 10,
   "id": "d8406212",
   "metadata": {
    "execution": {
     "iopub.execute_input": "2023-05-31T10:21:57.762008Z",
     "iopub.status.busy": "2023-05-31T10:21:57.760982Z",
     "iopub.status.idle": "2023-05-31T10:21:57.781587Z",
     "shell.execute_reply": "2023-05-31T10:21:57.780293Z"
    },
    "papermill": {
     "duration": 0.0352,
     "end_time": "2023-05-31T10:21:57.784717",
     "exception": false,
     "start_time": "2023-05-31T10:21:57.749517",
     "status": "completed"
    },
    "tags": []
   },
   "outputs": [
    {
     "name": "stderr",
     "output_type": "stream",
     "text": [
      "/opt/conda/lib/python3.10/site-packages/sklearn/preprocessing/_encoders.py:868: FutureWarning: `sparse` was renamed to `sparse_output` in version 1.2 and will be removed in 1.4. `sparse_output` is ignored unless you leave `sparse` to its default value.\n",
      "  warnings.warn(\n"
     ]
    }
   ],
   "source": [
    "train_data['Sex'], _ = train_data['Sex'].factorize()\n",
    "encoder = OneHotEncoder(sparse = False)\n",
    "OH_Embarked = pd.DataFrame(encoder.fit_transform(train_data[['Embarked']]), columns = train_data['Embarked'].unique())\n",
    "train_data = pd.concat([train_data, OH_Embarked], axis = 1)\n",
    "train_data.drop('Embarked', axis = 1, inplace = True)"
   ]
  },
  {
   "cell_type": "markdown",
   "id": "bfa93276",
   "metadata": {
    "papermill": {
     "duration": 0.009926,
     "end_time": "2023-05-31T10:21:57.805169",
     "exception": false,
     "start_time": "2023-05-31T10:21:57.795243",
     "status": "completed"
    },
    "tags": []
   },
   "source": [
    "## 5. Model Selection & Training"
   ]
  },
  {
   "cell_type": "markdown",
   "id": "2ed7da17",
   "metadata": {
    "papermill": {
     "duration": 0.010103,
     "end_time": "2023-05-31T10:21:57.825572",
     "exception": false,
     "start_time": "2023-05-31T10:21:57.815469",
     "status": "completed"
    },
    "tags": []
   },
   "source": [
    "### 5 - a) Split into train, test and valid"
   ]
  },
  {
   "cell_type": "markdown",
   "id": "5a15e431",
   "metadata": {
    "papermill": {
     "duration": 0.01,
     "end_time": "2023-05-31T10:21:57.845823",
     "exception": false,
     "start_time": "2023-05-31T10:21:57.835823",
     "status": "completed"
    },
    "tags": []
   },
   "source": [
    "We had already split up valid and train so as to evaluate our model."
   ]
  },
  {
   "cell_type": "code",
   "execution_count": 11,
   "id": "ac7d06c0",
   "metadata": {
    "execution": {
     "iopub.execute_input": "2023-05-31T10:21:57.868787Z",
     "iopub.status.busy": "2023-05-31T10:21:57.868353Z",
     "iopub.status.idle": "2023-05-31T10:21:57.890826Z",
     "shell.execute_reply": "2023-05-31T10:21:57.889462Z"
    },
    "papermill": {
     "duration": 0.037175,
     "end_time": "2023-05-31T10:21:57.893580",
     "exception": false,
     "start_time": "2023-05-31T10:21:57.856405",
     "status": "completed"
    },
    "tags": []
   },
   "outputs": [
    {
     "data": {
      "text/html": [
       "<div>\n",
       "<style scoped>\n",
       "    .dataframe tbody tr th:only-of-type {\n",
       "        vertical-align: middle;\n",
       "    }\n",
       "\n",
       "    .dataframe tbody tr th {\n",
       "        vertical-align: top;\n",
       "    }\n",
       "\n",
       "    .dataframe thead th {\n",
       "        text-align: right;\n",
       "    }\n",
       "</style>\n",
       "<table border=\"1\" class=\"dataframe\">\n",
       "  <thead>\n",
       "    <tr style=\"text-align: right;\">\n",
       "      <th></th>\n",
       "      <th>Pclass</th>\n",
       "      <th>Sex</th>\n",
       "      <th>Age</th>\n",
       "      <th>SibSp</th>\n",
       "      <th>Parch</th>\n",
       "      <th>Fare</th>\n",
       "      <th>S</th>\n",
       "      <th>C</th>\n",
       "      <th>Q</th>\n",
       "    </tr>\n",
       "  </thead>\n",
       "  <tbody>\n",
       "    <tr>\n",
       "      <th>807</th>\n",
       "      <td>3</td>\n",
       "      <td>1</td>\n",
       "      <td>18.00</td>\n",
       "      <td>0</td>\n",
       "      <td>0</td>\n",
       "      <td>7.7750</td>\n",
       "      <td>0.0</td>\n",
       "      <td>0.0</td>\n",
       "      <td>1.0</td>\n",
       "    </tr>\n",
       "    <tr>\n",
       "      <th>33</th>\n",
       "      <td>2</td>\n",
       "      <td>0</td>\n",
       "      <td>66.00</td>\n",
       "      <td>0</td>\n",
       "      <td>0</td>\n",
       "      <td>10.5000</td>\n",
       "      <td>0.0</td>\n",
       "      <td>0.0</td>\n",
       "      <td>1.0</td>\n",
       "    </tr>\n",
       "    <tr>\n",
       "      <th>35</th>\n",
       "      <td>1</td>\n",
       "      <td>0</td>\n",
       "      <td>42.00</td>\n",
       "      <td>1</td>\n",
       "      <td>0</td>\n",
       "      <td>52.0000</td>\n",
       "      <td>0.0</td>\n",
       "      <td>0.0</td>\n",
       "      <td>1.0</td>\n",
       "    </tr>\n",
       "    <tr>\n",
       "      <th>755</th>\n",
       "      <td>2</td>\n",
       "      <td>0</td>\n",
       "      <td>0.67</td>\n",
       "      <td>1</td>\n",
       "      <td>1</td>\n",
       "      <td>14.5000</td>\n",
       "      <td>0.0</td>\n",
       "      <td>0.0</td>\n",
       "      <td>1.0</td>\n",
       "    </tr>\n",
       "    <tr>\n",
       "      <th>721</th>\n",
       "      <td>3</td>\n",
       "      <td>0</td>\n",
       "      <td>17.00</td>\n",
       "      <td>1</td>\n",
       "      <td>0</td>\n",
       "      <td>7.0542</td>\n",
       "      <td>0.0</td>\n",
       "      <td>0.0</td>\n",
       "      <td>1.0</td>\n",
       "    </tr>\n",
       "  </tbody>\n",
       "</table>\n",
       "</div>"
      ],
      "text/plain": [
       "     Pclass  Sex    Age  SibSp  Parch     Fare    S    C    Q\n",
       "807       3    1  18.00      0      0   7.7750  0.0  0.0  1.0\n",
       "33        2    0  66.00      0      0  10.5000  0.0  0.0  1.0\n",
       "35        1    0  42.00      1      0  52.0000  0.0  0.0  1.0\n",
       "755       2    0   0.67      1      1  14.5000  0.0  0.0  1.0\n",
       "721       3    0  17.00      1      0   7.0542  0.0  0.0  1.0"
      ]
     },
     "execution_count": 11,
     "metadata": {},
     "output_type": "execute_result"
    }
   ],
   "source": [
    "X_train = train_data.drop(columns = ['Survived'])\n",
    "y_train = train_data['Survived']\n",
    "\n",
    "X_train, X_valid, y_train, y_valid =train_test_split(X_train, y_train, test_size = 0.4)\n",
    "\n",
    "X_valid.sample(5)"
   ]
  },
  {
   "cell_type": "markdown",
   "id": "03869a19",
   "metadata": {
    "papermill": {
     "duration": 0.010324,
     "end_time": "2023-05-31T10:21:57.914639",
     "exception": false,
     "start_time": "2023-05-31T10:21:57.904315",
     "status": "completed"
    },
    "tags": []
   },
   "source": [
    "We've set maximum iterations into 300 since data hasn't scaled."
   ]
  },
  {
   "cell_type": "code",
   "execution_count": 12,
   "id": "82fa7382",
   "metadata": {
    "execution": {
     "iopub.execute_input": "2023-05-31T10:21:57.938623Z",
     "iopub.status.busy": "2023-05-31T10:21:57.937875Z",
     "iopub.status.idle": "2023-05-31T10:21:58.014639Z",
     "shell.execute_reply": "2023-05-31T10:21:58.013518Z"
    },
    "papermill": {
     "duration": 0.091867,
     "end_time": "2023-05-31T10:21:58.017108",
     "exception": false,
     "start_time": "2023-05-31T10:21:57.925241",
     "status": "completed"
    },
    "tags": []
   },
   "outputs": [
    {
     "data": {
      "text/html": [
       "<style>#sk-container-id-1 {color: black;background-color: white;}#sk-container-id-1 pre{padding: 0;}#sk-container-id-1 div.sk-toggleable {background-color: white;}#sk-container-id-1 label.sk-toggleable__label {cursor: pointer;display: block;width: 100%;margin-bottom: 0;padding: 0.3em;box-sizing: border-box;text-align: center;}#sk-container-id-1 label.sk-toggleable__label-arrow:before {content: \"▸\";float: left;margin-right: 0.25em;color: #696969;}#sk-container-id-1 label.sk-toggleable__label-arrow:hover:before {color: black;}#sk-container-id-1 div.sk-estimator:hover label.sk-toggleable__label-arrow:before {color: black;}#sk-container-id-1 div.sk-toggleable__content {max-height: 0;max-width: 0;overflow: hidden;text-align: left;background-color: #f0f8ff;}#sk-container-id-1 div.sk-toggleable__content pre {margin: 0.2em;color: black;border-radius: 0.25em;background-color: #f0f8ff;}#sk-container-id-1 input.sk-toggleable__control:checked~div.sk-toggleable__content {max-height: 200px;max-width: 100%;overflow: auto;}#sk-container-id-1 input.sk-toggleable__control:checked~label.sk-toggleable__label-arrow:before {content: \"▾\";}#sk-container-id-1 div.sk-estimator input.sk-toggleable__control:checked~label.sk-toggleable__label {background-color: #d4ebff;}#sk-container-id-1 div.sk-label input.sk-toggleable__control:checked~label.sk-toggleable__label {background-color: #d4ebff;}#sk-container-id-1 input.sk-hidden--visually {border: 0;clip: rect(1px 1px 1px 1px);clip: rect(1px, 1px, 1px, 1px);height: 1px;margin: -1px;overflow: hidden;padding: 0;position: absolute;width: 1px;}#sk-container-id-1 div.sk-estimator {font-family: monospace;background-color: #f0f8ff;border: 1px dotted black;border-radius: 0.25em;box-sizing: border-box;margin-bottom: 0.5em;}#sk-container-id-1 div.sk-estimator:hover {background-color: #d4ebff;}#sk-container-id-1 div.sk-parallel-item::after {content: \"\";width: 100%;border-bottom: 1px solid gray;flex-grow: 1;}#sk-container-id-1 div.sk-label:hover label.sk-toggleable__label {background-color: #d4ebff;}#sk-container-id-1 div.sk-serial::before {content: \"\";position: absolute;border-left: 1px solid gray;box-sizing: border-box;top: 0;bottom: 0;left: 50%;z-index: 0;}#sk-container-id-1 div.sk-serial {display: flex;flex-direction: column;align-items: center;background-color: white;padding-right: 0.2em;padding-left: 0.2em;position: relative;}#sk-container-id-1 div.sk-item {position: relative;z-index: 1;}#sk-container-id-1 div.sk-parallel {display: flex;align-items: stretch;justify-content: center;background-color: white;position: relative;}#sk-container-id-1 div.sk-item::before, #sk-container-id-1 div.sk-parallel-item::before {content: \"\";position: absolute;border-left: 1px solid gray;box-sizing: border-box;top: 0;bottom: 0;left: 50%;z-index: -1;}#sk-container-id-1 div.sk-parallel-item {display: flex;flex-direction: column;z-index: 1;position: relative;background-color: white;}#sk-container-id-1 div.sk-parallel-item:first-child::after {align-self: flex-end;width: 50%;}#sk-container-id-1 div.sk-parallel-item:last-child::after {align-self: flex-start;width: 50%;}#sk-container-id-1 div.sk-parallel-item:only-child::after {width: 0;}#sk-container-id-1 div.sk-dashed-wrapped {border: 1px dashed gray;margin: 0 0.4em 0.5em 0.4em;box-sizing: border-box;padding-bottom: 0.4em;background-color: white;}#sk-container-id-1 div.sk-label label {font-family: monospace;font-weight: bold;display: inline-block;line-height: 1.2em;}#sk-container-id-1 div.sk-label-container {text-align: center;}#sk-container-id-1 div.sk-container {/* jupyter's `normalize.less` sets `[hidden] { display: none; }` but bootstrap.min.css set `[hidden] { display: none !important; }` so we also need the `!important` here to be able to override the default hidden behavior on the sphinx rendered scikit-learn.org. See: https://github.com/scikit-learn/scikit-learn/issues/21755 */display: inline-block !important;position: relative;}#sk-container-id-1 div.sk-text-repr-fallback {display: none;}</style><div id=\"sk-container-id-1\" class=\"sk-top-container\"><div class=\"sk-text-repr-fallback\"><pre>LogisticRegression(max_iter=300)</pre><b>In a Jupyter environment, please rerun this cell to show the HTML representation or trust the notebook. <br />On GitHub, the HTML representation is unable to render, please try loading this page with nbviewer.org.</b></div><div class=\"sk-container\" hidden><div class=\"sk-item\"><div class=\"sk-estimator sk-toggleable\"><input class=\"sk-toggleable__control sk-hidden--visually\" id=\"sk-estimator-id-1\" type=\"checkbox\" checked><label for=\"sk-estimator-id-1\" class=\"sk-toggleable__label sk-toggleable__label-arrow\">LogisticRegression</label><div class=\"sk-toggleable__content\"><pre>LogisticRegression(max_iter=300)</pre></div></div></div></div></div>"
      ],
      "text/plain": [
       "LogisticRegression(max_iter=300)"
      ]
     },
     "execution_count": 12,
     "metadata": {},
     "output_type": "execute_result"
    }
   ],
   "source": [
    "model = LogisticRegression(max_iter = 300)\n",
    "model.fit(X_train, y_train)"
   ]
  },
  {
   "cell_type": "code",
   "execution_count": 13,
   "id": "0c06c4e0",
   "metadata": {
    "execution": {
     "iopub.execute_input": "2023-05-31T10:21:58.041029Z",
     "iopub.status.busy": "2023-05-31T10:21:58.040593Z",
     "iopub.status.idle": "2023-05-31T10:21:58.052202Z",
     "shell.execute_reply": "2023-05-31T10:21:58.050934Z"
    },
    "papermill": {
     "duration": 0.026447,
     "end_time": "2023-05-31T10:21:58.054656",
     "exception": false,
     "start_time": "2023-05-31T10:21:58.028209",
     "status": "completed"
    },
    "tags": []
   },
   "outputs": [
    {
     "data": {
      "text/plain": [
       "0.7790262172284644"
      ]
     },
     "execution_count": 13,
     "metadata": {},
     "output_type": "execute_result"
    }
   ],
   "source": [
    "pred_train = model.predict(X_train)\n",
    "accuracy_score(y_train, pred_train)"
   ]
  },
  {
   "cell_type": "code",
   "execution_count": 14,
   "id": "c2783b5e",
   "metadata": {
    "execution": {
     "iopub.execute_input": "2023-05-31T10:21:58.079478Z",
     "iopub.status.busy": "2023-05-31T10:21:58.079058Z",
     "iopub.status.idle": "2023-05-31T10:21:58.089912Z",
     "shell.execute_reply": "2023-05-31T10:21:58.088656Z"
    },
    "papermill": {
     "duration": 0.026825,
     "end_time": "2023-05-31T10:21:58.092666",
     "exception": false,
     "start_time": "2023-05-31T10:21:58.065841",
     "status": "completed"
    },
    "tags": []
   },
   "outputs": [
    {
     "data": {
      "text/plain": [
       "0.8207282913165266"
      ]
     },
     "execution_count": 14,
     "metadata": {},
     "output_type": "execute_result"
    }
   ],
   "source": [
    "pred_valid = model.predict(X_valid)\n",
    "accuracy_score(y_valid, pred_valid)"
   ]
  }
 ],
 "metadata": {
  "kernelspec": {
   "display_name": "Python 3",
   "language": "python",
   "name": "python3"
  },
  "language_info": {
   "codemirror_mode": {
    "name": "ipython",
    "version": 3
   },
   "file_extension": ".py",
   "mimetype": "text/x-python",
   "name": "python",
   "nbconvert_exporter": "python",
   "pygments_lexer": "ipython3",
   "version": "3.10.10"
  },
  "papermill": {
   "default_parameters": {},
   "duration": 17.929868,
   "end_time": "2023-05-31T10:21:59.228274",
   "environment_variables": {},
   "exception": null,
   "input_path": "__notebook__.ipynb",
   "output_path": "__notebook__.ipynb",
   "parameters": {},
   "start_time": "2023-05-31T10:21:41.298406",
   "version": "2.4.0"
  }
 },
 "nbformat": 4,
 "nbformat_minor": 5
}
